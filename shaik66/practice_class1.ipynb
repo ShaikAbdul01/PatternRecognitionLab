{
 "cells": [
  {
   "cell_type": "code",
   "execution_count": 1,
   "id": "a3649998-7359-4280-9a46-a49dfad4f1cc",
   "metadata": {},
   "outputs": [
    {
     "data": {
      "text/plain": [
       "6"
      ]
     },
     "execution_count": 1,
     "metadata": {},
     "output_type": "execute_result"
    }
   ],
   "source": [
    "a=6\n",
    "a"
   ]
  },
  {
   "cell_type": "code",
   "execution_count": 3,
   "id": "967fec87-a9fa-4f1e-af72-71b40a3ff1c0",
   "metadata": {},
   "outputs": [
    {
     "data": {
      "text/plain": [
       "6"
      ]
     },
     "execution_count": 3,
     "metadata": {},
     "output_type": "execute_result"
    }
   ],
   "source": [
    "b=a\n",
    "b"
   ]
  },
  {
   "cell_type": "code",
   "execution_count": 5,
   "id": "8c45fc1f-6cc9-49b2-8cb7-01c991bcf99b",
   "metadata": {},
   "outputs": [
    {
     "data": {
      "text/plain": [
       "'6'"
      ]
     },
     "execution_count": 5,
     "metadata": {},
     "output_type": "execute_result"
    }
   ],
   "source": [
    "b='6'\n",
    "b"
   ]
  },
  {
   "cell_type": "code",
   "execution_count": 34,
   "id": "1f310894-837a-48fb-89c7-951cbf83a9b3",
   "metadata": {},
   "outputs": [],
   "source": [
    "a=[]\n"
   ]
  },
  {
   "cell_type": "code",
   "execution_count": 35,
   "id": "44bded22-7b34-4e29-b55a-79ac5e5038c4",
   "metadata": {},
   "outputs": [
    {
     "data": {
      "text/plain": [
       "[]"
      ]
     },
     "execution_count": 35,
     "metadata": {},
     "output_type": "execute_result"
    }
   ],
   "source": [
    "a"
   ]
  },
  {
   "cell_type": "code",
   "execution_count": 36,
   "id": "1ea4712a-71b3-4c21-838c-93d07f8158e2",
   "metadata": {},
   "outputs": [],
   "source": [
    "for i in range (0,10):\n",
    "    a.append(i)"
   ]
  },
  {
   "cell_type": "code",
   "execution_count": 37,
   "id": "bdd68f9f-2632-4fe6-9818-7e603a7776d8",
   "metadata": {},
   "outputs": [
    {
     "data": {
      "text/plain": [
       "[0, 1, 2, 3, 4, 5, 6, 7, 8, 9]"
      ]
     },
     "execution_count": 37,
     "metadata": {},
     "output_type": "execute_result"
    }
   ],
   "source": [
    "a"
   ]
  },
  {
   "cell_type": "code",
   "execution_count": 38,
   "id": "b63916d6-c088-40bf-8703-b51dbe3805d5",
   "metadata": {},
   "outputs": [
    {
     "name": "stdin",
     "output_type": "stream",
     "text": [
      "Ënter the string:  shaik\n"
     ]
    },
    {
     "name": "stdout",
     "output_type": "stream",
     "text": [
      "String:  ['shaik']\n"
     ]
    }
   ],
   "source": [
    "arr=[]\n",
    "for i in range(1):\n",
    "    element=input(\"Ënter the string: \")\n",
    "    arr.append(element)\n",
    "    print(\"String: \",arr)"
   ]
  },
  {
   "cell_type": "code",
   "execution_count": null,
   "id": "e815efd7-6da4-4265-bcb1-1d2a0e09eca2",
   "metadata": {},
   "outputs": [],
   "source": [
    "ar=[]\n",
    "for i in range(1):\n",
    "    element=intput(\"Enter the string\")"
   ]
  },
  {
   "cell_type": "code",
   "execution_count": null,
   "id": "3966f01c-856b-44d6-8490-1a538e02761d",
   "metadata": {},
   "outputs": [],
   "source": []
  },
  {
   "cell_type": "code",
   "execution_count": null,
   "id": "3a8d212b-7ceb-4e8d-8202-b1617063a359",
   "metadata": {},
   "outputs": [],
   "source": []
  },
  {
   "cell_type": "code",
   "execution_count": 2,
   "id": "950fb2cc-2719-4c84-b004-98a458c6b3af",
   "metadata": {},
   "outputs": [
    {
     "name": "stdin",
     "output_type": "stream",
     "text": [
      "Enter integer value:  34\n"
     ]
    },
    {
     "name": "stdout",
     "output_type": "stream",
     "text": [
      "[34]\n"
     ]
    }
   ],
   "source": [
    "ar=[]\n",
    "for i in range (1):\n",
    "    element=int(input(\"Enter integer value: \"))\n",
    "    ar.append(element)\n",
    "    print(ar)\n",
    "    "
   ]
  },
  {
   "cell_type": "code",
   "execution_count": 5,
   "id": "f0aea68a-bb20-4a95-bd47-facb03f5cce8",
   "metadata": {},
   "outputs": [
    {
     "name": "stdin",
     "output_type": "stream",
     "text": [
      " 12\n",
      "Enter the number of string elements:  3\n",
      "Enter a string:  shaik\n",
      "Enter a string:  abdul \n",
      "Enter a string:  ahad\n"
     ]
    },
    {
     "name": "stdout",
     "output_type": "stream",
     "text": [
      "Array of strings: ['shaik', 'abdul ', 'ahad']\n"
     ]
    },
    {
     "name": "stdin",
     "output_type": "stream",
     "text": [
      "Enter a name:  Chattagram\n",
      "Enter an id:  02907666\n",
      "Enter a CGPA:  3.90\n",
      "Enter a name:  abd\n",
      "Enter an id:  02965424\n",
      "Enter a CGPA:  3.85\n",
      "Enter a name:  dak\n",
      "Enter an id:  3.60\n",
      "Enter a CGPA:  6.36\n"
     ]
    },
    {
     "name": "stdout",
     "output_type": "stream",
     "text": [
      "Names: ['Chattagram', 'abd', 'dak']\n",
      "IDs: ['02907666', '02965424', '3.60']\n",
      "CGPAs: ['3.90', '3.85', '6.36']\n"
     ]
    },
    {
     "data": {
      "text/html": [
       "<div>\n",
       "<style scoped>\n",
       "    .dataframe tbody tr th:only-of-type {\n",
       "        vertical-align: middle;\n",
       "    }\n",
       "\n",
       "    .dataframe tbody tr th {\n",
       "        vertical-align: top;\n",
       "    }\n",
       "\n",
       "    .dataframe thead th {\n",
       "        text-align: right;\n",
       "    }\n",
       "</style>\n",
       "<table border=\"1\" class=\"dataframe\">\n",
       "  <thead>\n",
       "    <tr style=\"text-align: right;\">\n",
       "      <th></th>\n",
       "      <th>AGE</th>\n",
       "      <th>Hemoglobin</th>\n",
       "      <th>TG</th>\n",
       "      <th>Cholestro</th>\n",
       "    </tr>\n",
       "  </thead>\n",
       "  <tbody>\n",
       "    <tr>\n",
       "      <th>0</th>\n",
       "      <td>25</td>\n",
       "      <td>13.111209</td>\n",
       "      <td>6.036666</td>\n",
       "      <td>38.524388</td>\n",
       "    </tr>\n",
       "    <tr>\n",
       "      <th>1</th>\n",
       "      <td>30</td>\n",
       "      <td>10.525557</td>\n",
       "      <td>25.634988</td>\n",
       "      <td>46.350548</td>\n",
       "    </tr>\n",
       "    <tr>\n",
       "      <th>2</th>\n",
       "      <td>27</td>\n",
       "      <td>12.062996</td>\n",
       "      <td>14.810511</td>\n",
       "      <td>24.064448</td>\n",
       "    </tr>\n",
       "    <tr>\n",
       "      <th>3</th>\n",
       "      <td>28</td>\n",
       "      <td>17.109337</td>\n",
       "      <td>14.068834</td>\n",
       "      <td>17.721746</td>\n",
       "    </tr>\n",
       "    <tr>\n",
       "      <th>4</th>\n",
       "      <td>28</td>\n",
       "      <td>11.213527</td>\n",
       "      <td>31.861445</td>\n",
       "      <td>19.632870</td>\n",
       "    </tr>\n",
       "    <tr>\n",
       "      <th>5</th>\n",
       "      <td>25</td>\n",
       "      <td>17.410931</td>\n",
       "      <td>35.480786</td>\n",
       "      <td>24.947339</td>\n",
       "    </tr>\n",
       "    <tr>\n",
       "      <th>6</th>\n",
       "      <td>30</td>\n",
       "      <td>15.379858</td>\n",
       "      <td>30.477922</td>\n",
       "      <td>59.872783</td>\n",
       "    </tr>\n",
       "    <tr>\n",
       "      <th>7</th>\n",
       "      <td>26</td>\n",
       "      <td>10.214620</td>\n",
       "      <td>7.083232</td>\n",
       "      <td>59.041249</td>\n",
       "    </tr>\n",
       "    <tr>\n",
       "      <th>8</th>\n",
       "      <td>27</td>\n",
       "      <td>10.406245</td>\n",
       "      <td>12.653956</td>\n",
       "      <td>32.739026</td>\n",
       "    </tr>\n",
       "    <tr>\n",
       "      <th>9</th>\n",
       "      <td>26</td>\n",
       "      <td>15.288985</td>\n",
       "      <td>24.367299</td>\n",
       "      <td>49.852894</td>\n",
       "    </tr>\n",
       "  </tbody>\n",
       "</table>\n",
       "</div>"
      ],
      "text/plain": [
       "   AGE  Hemoglobin         TG  Cholestro\n",
       "0   25   13.111209   6.036666  38.524388\n",
       "1   30   10.525557  25.634988  46.350548\n",
       "2   27   12.062996  14.810511  24.064448\n",
       "3   28   17.109337  14.068834  17.721746\n",
       "4   28   11.213527  31.861445  19.632870\n",
       "5   25   17.410931  35.480786  24.947339\n",
       "6   30   15.379858  30.477922  59.872783\n",
       "7   26   10.214620   7.083232  59.041249\n",
       "8   27   10.406245  12.653956  32.739026\n",
       "9   26   15.288985  24.367299  49.852894"
      ]
     },
     "execution_count": 5,
     "metadata": {},
     "output_type": "execute_result"
    }
   ],
   "source": [
    "# Basic python\n",
    "A = 6\n",
    "A\n",
    "\n",
    "# Variable with string value\n",
    "a = '10'\n",
    "a\n",
    "\n",
    "# Input from user (requires input)\n",
    "b = int(input())\n",
    "b\n",
    "\n",
    "# Empty list creation\n",
    "a = []\n",
    "a\n",
    "\n",
    "# Populating list using for loop\n",
    "for i in range(0,10):\n",
    "    a.append(i)\n",
    "a\n",
    "\n",
    "# Array of strings input\n",
    "arr = []\n",
    "n = int(input(\"Enter the number of string elements: \"))\n",
    "for i in range(n):\n",
    "    element = input(\"Enter a string: \")\n",
    "    arr.append(element)\n",
    "print(\"Array of strings:\", arr)\n",
    "\n",
    "# Collecting student data: names, IDs, CGPAs\n",
    "names, ids, cgs = [], [], []\n",
    "for i in range(3):\n",
    "    a = input(\"Enter a name: \")\n",
    "    names.append(a)\n",
    "    \n",
    "    a = input(\"Enter an id: \")\n",
    "    ids.append(a)\n",
    "    \n",
    "    a = input(\"Enter a CGPA: \")\n",
    "    cgs.append(a)\n",
    "\n",
    "print(\"Names:\", names)\n",
    "print(\"IDs:\", ids)\n",
    "print(\"CGPAs:\", cgs)\n",
    "\n",
    "# Creating dictionary from collected data\n",
    "dict = {'Name': names, 'ID': ids, 'CGPA': cgs}\n",
    "dict\n",
    "\n",
    "# Creating pandas DataFrame\n",
    "import pandas as pd\n",
    "df = pd.DataFrame(data=dict)\n",
    "df\n",
    "\n",
    "# Export DataFrame to CSV file\n",
    "df.to_csv('Testdata.csv')\n",
    "\n",
    "# Random integer generation\n",
    "import random\n",
    "x = random.randint(25,30)\n",
    "x\n",
    "\n",
    "# Adding random age data to DataFrame\n",
    "age = []\n",
    "for i in range(0,3):\n",
    "    x = random.randint(25,30) \n",
    "    age.append(x)\n",
    "age\n",
    "\n",
    "df[\"AGE\"] = age\n",
    "df\n",
    "\n",
    "# Generating random dataset for medical parameters\n",
    "age, hemoglobin, tg, cholestro = [], [], [], []\n",
    "for i in range(10):\n",
    "    x = random.randint(25,30) \n",
    "    age.append(x)\n",
    "    a = random.uniform(10,18)\n",
    "    hemoglobin.append(a)\n",
    "    a = random.uniform(5,40)\n",
    "    tg.append(a)\n",
    "    a = random.uniform(10,60)\n",
    "    cholestro.append(a)\n",
    "\n",
    "dict = {'AGE': age, 'Hemoglobin': hemoglobin, 'TG': tg, 'Cholestro': cholestro}\n",
    "df = pd.DataFrame(data=dict)\n",
    "df\n",
    "\n",
    "# Generating a random float between 0 and 1 rounded to 2 decimal places\n",
    "x = round(random.random(), 2)\n",
    "x\n",
    "\n",
    "df\n"
   ]
  },
  {
   "cell_type": "code",
   "execution_count": null,
   "id": "312b0736-4840-4184-ba86-14fd98da72e6",
   "metadata": {},
   "outputs": [],
   "source": []
  }
 ],
 "metadata": {
  "kernelspec": {
   "display_name": "Python 3 (ipykernel)",
   "language": "python",
   "name": "python3"
  },
  "language_info": {
   "codemirror_mode": {
    "name": "ipython",
    "version": 3
   },
   "file_extension": ".py",
   "mimetype": "text/x-python",
   "name": "python",
   "nbconvert_exporter": "python",
   "pygments_lexer": "ipython3",
   "version": "3.12.7"
  }
 },
 "nbformat": 4,
 "nbformat_minor": 5
}
