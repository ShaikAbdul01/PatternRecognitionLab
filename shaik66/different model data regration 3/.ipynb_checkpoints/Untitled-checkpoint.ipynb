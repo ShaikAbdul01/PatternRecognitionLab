{
 "cells": [
  {
   "cell_type": "code",
   "execution_count": null,
   "id": "1690bcc2-4b8c-4aa8-b49f-6dbebbab8742",
   "metadata": {},
   "outputs": [],
   "source": []
  }
 ],
 "metadata": {
  "kernelspec": {
   "display_name": "",
   "name": ""
  },
  "language_info": {
   "name": ""
  }
 },
 "nbformat": 4,
 "nbformat_minor": 5
}
