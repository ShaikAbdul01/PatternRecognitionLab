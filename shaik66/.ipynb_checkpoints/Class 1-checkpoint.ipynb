{
 "cells": [
  {
   "cell_type": "code",
   "execution_count": null,
   "id": "a2ac0030-f52d-4dbe-b014-1dc67a6c8b26",
   "metadata": {},
   "outputs": [],
   "source": [
    "#Basic python"
   ]
  },
  {
   "cell_type": "markdown",
   "id": "9a859553-98d0-47a8-8276-dac9cfd11e27",
   "metadata": {},
   "source": [
    "# Basic python\n"
   ]
  },
  {
   "cell_type": "code",
   "execution_count": 2,
   "id": "e1b0a0b9-a2a6-4351-a93c-8b79c679bcb8",
   "metadata": {},
   "outputs": [],
   "source": [
    "A=6"
   ]
  },
  {
   "cell_type": "code",
   "execution_count": 3,
   "id": "7920769e-928c-4ef1-9a08-c1ec5a184b3b",
   "metadata": {},
   "outputs": [
    {
     "data": {
      "text/plain": [
       "6"
      ]
     },
     "execution_count": 3,
     "metadata": {},
     "output_type": "execute_result"
    }
   ],
   "source": [
    "A"
   ]
  },
  {
   "cell_type": "code",
   "execution_count": 5,
   "id": "9948c580-9e8d-4403-b4dc-b04023f38dcd",
   "metadata": {},
   "outputs": [
    {
     "data": {
      "text/plain": [
       "'10'"
      ]
     },
     "execution_count": 5,
     "metadata": {},
     "output_type": "execute_result"
    }
   ],
   "source": [
    "a='10'\n",
    "a"
   ]
  },
  {
   "cell_type": "code",
   "execution_count": 9,
   "id": "96ce0f8b-76b3-44fc-9d86-6bc4e5b080ec",
   "metadata": {},
   "outputs": [
    {
     "name": "stdin",
     "output_type": "stream",
     "text": [
      " 12\n"
     ]
    },
    {
     "data": {
      "text/plain": [
       "12"
      ]
     },
     "execution_count": 9,
     "metadata": {},
     "output_type": "execute_result"
    }
   ],
   "source": [
    "b=int(input())\n",
    "b"
   ]
  },
  {
   "cell_type": "code",
   "execution_count": 10,
   "id": "ed1bed4c-b706-4fcd-bd71-e91461c95970",
   "metadata": {},
   "outputs": [
    {
     "data": {
      "text/plain": [
       "[]"
      ]
     },
     "execution_count": 10,
     "metadata": {},
     "output_type": "execute_result"
    }
   ],
   "source": [
    "a=[]\n",
    "a\n"
   ]
  },
  {
   "cell_type": "code",
   "execution_count": 11,
   "id": "e397cccd-ba7c-4ca3-9f03-ae63ea0504b7",
   "metadata": {},
   "outputs": [],
   "source": [
    "for i in range(0,10):\n",
    "    a.append(i)"
   ]
  },
  {
   "cell_type": "code",
   "execution_count": 12,
   "id": "34823924-13aa-4227-9936-1ef7786add25",
   "metadata": {},
   "outputs": [
    {
     "data": {
      "text/plain": [
       "[0, 1, 2, 3, 4, 5, 6, 7, 8, 9]"
      ]
     },
     "execution_count": 12,
     "metadata": {},
     "output_type": "execute_result"
    }
   ],
   "source": [
    "a"
   ]
  },
  {
   "cell_type": "code",
   "execution_count": 24,
   "id": "104d412c-ee43-4180-bae8-1574945ecf01",
   "metadata": {},
   "outputs": [
    {
     "name": "stdin",
     "output_type": "stream",
     "text": [
      "Enter the number of string elements:  shaik \n"
     ]
    },
    {
     "ename": "TypeError",
     "evalue": "'str' object cannot be interpreted as an integer",
     "output_type": "error",
     "traceback": [
      "\u001b[1;31m---------------------------------------------------------------------------\u001b[0m",
      "\u001b[1;31mTypeError\u001b[0m                                 Traceback (most recent call last)",
      "Cell \u001b[1;32mIn[24], line 4\u001b[0m\n\u001b[0;32m      1\u001b[0m arr \u001b[38;5;241m=\u001b[39m []\n\u001b[0;32m      2\u001b[0m n \u001b[38;5;241m=\u001b[39m \u001b[38;5;28minput\u001b[39m(\u001b[38;5;124m\"\u001b[39m\u001b[38;5;124mEnter the number of string elements: \u001b[39m\u001b[38;5;124m\"\u001b[39m,)\n\u001b[1;32m----> 4\u001b[0m \u001b[38;5;28;01mfor\u001b[39;00m i \u001b[38;5;129;01min\u001b[39;00m \u001b[38;5;28mrange\u001b[39m(n):\n\u001b[0;32m      5\u001b[0m     element \u001b[38;5;241m=\u001b[39m \u001b[38;5;28minput\u001b[39m(\u001b[38;5;124m\"\u001b[39m\u001b[38;5;124mEnter a string: \u001b[39m\u001b[38;5;124m\"\u001b[39m,)\n\u001b[0;32m      6\u001b[0m     arr\u001b[38;5;241m.\u001b[39mappend(element)\n",
      "\u001b[1;31mTypeError\u001b[0m: 'str' object cannot be interpreted as an integer"
     ]
    }
   ],
   "source": [
    "arr = []\n",
    "n = input(\"Enter the number of string elements: \",)\n",
    "\n",
    "for i in range(n):\n",
    "    element = input(\"Enter a string: \",)\n",
    "    arr.append(element)\n",
    "\n",
    "print(\"Array of strings:\", arr)\n"
   ]
  },
  {
   "cell_type": "code",
   "execution_count": 16,
   "id": "d6e563c4-130e-4af9-9d06-89b6df2f4da8",
   "metadata": {},
   "outputs": [
    {
     "name": "stdin",
     "output_type": "stream",
     "text": [
      "Enter a name:  sjaol\n",
      "Enter an id:  34\n",
      "Enter a CGPA:  6.33\n",
      "Enter a name:  abdul\n",
      "Enter an id:  45\n",
      "Enter a CGPA:  3.22\n",
      "Enter a name:  ahad\n",
      "Enter an id:  89\n",
      "Enter a CGPA:  4.66\n"
     ]
    },
    {
     "name": "stdout",
     "output_type": "stream",
     "text": [
      "Names: ['sjaol', 'abdul', 'ahad']\n",
      "IDs: ['34', '45', '89']\n",
      "CGPAs: ['6.33', '3.22', '4.66']\n"
     ]
    }
   ],
   "source": [
    "names, ids, cgs = [], [], []\n",
    "\n",
    "for i in range(3):\n",
    "    a = input(\"Enter a name: \")\n",
    "    names.append(a)\n",
    "    \n",
    "    a = input(\"Enter an id: \")\n",
    "    ids.append(a)\n",
    "    \n",
    "    a = input(\"Enter a CGPA: \")\n",
    "    cgs.append(a)\n",
    "\n",
    "print(\"Names:\", names)\n",
    "print(\"IDs:\", ids)\n",
    "print(\"CGPAs:\", cgs)\n"
   ]
  },
  {
   "cell_type": "code",
   "execution_count": 18,
   "id": "27834151-74d2-4195-a439-bb6167f76388",
   "metadata": {},
   "outputs": [
    {
     "data": {
      "text/plain": [
       "{'Name': ['sjaol', 'abdul', 'ahad'],\n",
       " 'ID': ['34', '45', '89'],\n",
       " 'CGPA': ['6.33', '3.22', '4.66']}"
      ]
     },
     "execution_count": 18,
     "metadata": {},
     "output_type": "execute_result"
    }
   ],
   "source": [
    "dict={'Name':names,'ID':ids,'CGPA':cgs}\n",
    "dict"
   ]
  },
  {
   "cell_type": "code",
   "execution_count": 21,
   "id": "f4b118f7-d6a2-4374-bdeb-21a1822a9ead",
   "metadata": {},
   "outputs": [],
   "source": [
    "import pandas as pd\n",
    "\n"
   ]
  },
  {
   "cell_type": "code",
   "execution_count": 22,
   "id": "6bd500c9-a236-4f52-9fa3-4bb87ac4385a",
   "metadata": {},
   "outputs": [
    {
     "data": {
      "text/html": [
       "<div>\n",
       "<style scoped>\n",
       "    .dataframe tbody tr th:only-of-type {\n",
       "        vertical-align: middle;\n",
       "    }\n",
       "\n",
       "    .dataframe tbody tr th {\n",
       "        vertical-align: top;\n",
       "    }\n",
       "\n",
       "    .dataframe thead th {\n",
       "        text-align: right;\n",
       "    }\n",
       "</style>\n",
       "<table border=\"1\" class=\"dataframe\">\n",
       "  <thead>\n",
       "    <tr style=\"text-align: right;\">\n",
       "      <th></th>\n",
       "      <th>Name</th>\n",
       "      <th>ID</th>\n",
       "      <th>CGPA</th>\n",
       "    </tr>\n",
       "  </thead>\n",
       "  <tbody>\n",
       "    <tr>\n",
       "      <th>0</th>\n",
       "      <td>sjaol</td>\n",
       "      <td>34</td>\n",
       "      <td>6.33</td>\n",
       "    </tr>\n",
       "    <tr>\n",
       "      <th>1</th>\n",
       "      <td>abdul</td>\n",
       "      <td>45</td>\n",
       "      <td>3.22</td>\n",
       "    </tr>\n",
       "    <tr>\n",
       "      <th>2</th>\n",
       "      <td>ahad</td>\n",
       "      <td>89</td>\n",
       "      <td>4.66</td>\n",
       "    </tr>\n",
       "  </tbody>\n",
       "</table>\n",
       "</div>"
      ],
      "text/plain": [
       "    Name  ID  CGPA\n",
       "0  sjaol  34  6.33\n",
       "1  abdul  45  3.22\n",
       "2   ahad  89  4.66"
      ]
     },
     "execution_count": 22,
     "metadata": {},
     "output_type": "execute_result"
    }
   ],
   "source": [
    "df=pd.DataFrame(data=dict)\n",
    "df\n",
    "\n"
   ]
  },
  {
   "cell_type": "code",
   "execution_count": 23,
   "id": "fa34e309-e5ba-48ad-bfea-8faf75ab7df1",
   "metadata": {},
   "outputs": [],
   "source": [
    "df.to_csv('Testdata.csv')"
   ]
  },
  {
   "cell_type": "code",
   "execution_count": 25,
   "id": "aa40bce6-8c1b-4463-9091-3e931dce25d3",
   "metadata": {},
   "outputs": [],
   "source": [
    "import random"
   ]
  },
  {
   "cell_type": "code",
   "execution_count": 26,
   "id": "01a63d38-e742-4a8e-84b5-016c26351527",
   "metadata": {},
   "outputs": [
    {
     "data": {
      "text/plain": [
       "27"
      ]
     },
     "execution_count": 26,
     "metadata": {},
     "output_type": "execute_result"
    }
   ],
   "source": [
    "x=random.randint(25,30)\n",
    "x"
   ]
  },
  {
   "cell_type": "code",
   "execution_count": 35,
   "id": "2f9c978d-ab63-4c96-8f56-d5c5812a0465",
   "metadata": {},
   "outputs": [
    {
     "data": {
      "text/html": [
       "<div>\n",
       "<style scoped>\n",
       "    .dataframe tbody tr th:only-of-type {\n",
       "        vertical-align: middle;\n",
       "    }\n",
       "\n",
       "    .dataframe tbody tr th {\n",
       "        vertical-align: top;\n",
       "    }\n",
       "\n",
       "    .dataframe thead th {\n",
       "        text-align: right;\n",
       "    }\n",
       "</style>\n",
       "<table border=\"1\" class=\"dataframe\">\n",
       "  <thead>\n",
       "    <tr style=\"text-align: right;\">\n",
       "      <th></th>\n",
       "      <th>Name</th>\n",
       "      <th>ID</th>\n",
       "      <th>CGPA</th>\n",
       "    </tr>\n",
       "  </thead>\n",
       "  <tbody>\n",
       "    <tr>\n",
       "      <th>0</th>\n",
       "      <td>sjaol</td>\n",
       "      <td>34</td>\n",
       "      <td>6.33</td>\n",
       "    </tr>\n",
       "    <tr>\n",
       "      <th>1</th>\n",
       "      <td>abdul</td>\n",
       "      <td>45</td>\n",
       "      <td>3.22</td>\n",
       "    </tr>\n",
       "    <tr>\n",
       "      <th>2</th>\n",
       "      <td>ahad</td>\n",
       "      <td>89</td>\n",
       "      <td>4.66</td>\n",
       "    </tr>\n",
       "  </tbody>\n",
       "</table>\n",
       "</div>"
      ],
      "text/plain": [
       "    Name  ID  CGPA\n",
       "0  sjaol  34  6.33\n",
       "1  abdul  45  3.22\n",
       "2   ahad  89  4.66"
      ]
     },
     "execution_count": 35,
     "metadata": {},
     "output_type": "execute_result"
    }
   ],
   "source": [
    "df"
   ]
  },
  {
   "cell_type": "code",
   "execution_count": 36,
   "id": "506d7afc-6c0b-494c-bf97-c5bcdde0d6d0",
   "metadata": {},
   "outputs": [
    {
     "data": {
      "text/plain": [
       "[27, 25, 25]"
      ]
     },
     "execution_count": 36,
     "metadata": {},
     "output_type": "execute_result"
    }
   ],
   "source": [
    "age=[]\n",
    "for i in range(0,3):\n",
    "    x = random.randint(25,30) \n",
    "    age.append(x)\n",
    "age\n",
    "\n"
   ]
  },
  {
   "cell_type": "code",
   "execution_count": 37,
   "id": "cc6680f4-ff83-4d12-8f08-48e9e2be1e17",
   "metadata": {},
   "outputs": [
    {
     "data": {
      "text/html": [
       "<div>\n",
       "<style scoped>\n",
       "    .dataframe tbody tr th:only-of-type {\n",
       "        vertical-align: middle;\n",
       "    }\n",
       "\n",
       "    .dataframe tbody tr th {\n",
       "        vertical-align: top;\n",
       "    }\n",
       "\n",
       "    .dataframe thead th {\n",
       "        text-align: right;\n",
       "    }\n",
       "</style>\n",
       "<table border=\"1\" class=\"dataframe\">\n",
       "  <thead>\n",
       "    <tr style=\"text-align: right;\">\n",
       "      <th></th>\n",
       "      <th>Name</th>\n",
       "      <th>ID</th>\n",
       "      <th>CGPA</th>\n",
       "    </tr>\n",
       "  </thead>\n",
       "  <tbody>\n",
       "    <tr>\n",
       "      <th>0</th>\n",
       "      <td>sjaol</td>\n",
       "      <td>34</td>\n",
       "      <td>6.33</td>\n",
       "    </tr>\n",
       "    <tr>\n",
       "      <th>1</th>\n",
       "      <td>abdul</td>\n",
       "      <td>45</td>\n",
       "      <td>3.22</td>\n",
       "    </tr>\n",
       "    <tr>\n",
       "      <th>2</th>\n",
       "      <td>ahad</td>\n",
       "      <td>89</td>\n",
       "      <td>4.66</td>\n",
       "    </tr>\n",
       "  </tbody>\n",
       "</table>\n",
       "</div>"
      ],
      "text/plain": [
       "    Name  ID  CGPA\n",
       "0  sjaol  34  6.33\n",
       "1  abdul  45  3.22\n",
       "2   ahad  89  4.66"
      ]
     },
     "execution_count": 37,
     "metadata": {},
     "output_type": "execute_result"
    }
   ],
   "source": [
    "df"
   ]
  },
  {
   "cell_type": "code",
   "execution_count": 38,
   "id": "614be248-d58b-42d1-a026-8ecd752793db",
   "metadata": {},
   "outputs": [
    {
     "data": {
      "text/html": [
       "<div>\n",
       "<style scoped>\n",
       "    .dataframe tbody tr th:only-of-type {\n",
       "        vertical-align: middle;\n",
       "    }\n",
       "\n",
       "    .dataframe tbody tr th {\n",
       "        vertical-align: top;\n",
       "    }\n",
       "\n",
       "    .dataframe thead th {\n",
       "        text-align: right;\n",
       "    }\n",
       "</style>\n",
       "<table border=\"1\" class=\"dataframe\">\n",
       "  <thead>\n",
       "    <tr style=\"text-align: right;\">\n",
       "      <th></th>\n",
       "      <th>Name</th>\n",
       "      <th>ID</th>\n",
       "      <th>CGPA</th>\n",
       "      <th>AGE</th>\n",
       "    </tr>\n",
       "  </thead>\n",
       "  <tbody>\n",
       "    <tr>\n",
       "      <th>0</th>\n",
       "      <td>sjaol</td>\n",
       "      <td>34</td>\n",
       "      <td>6.33</td>\n",
       "      <td>27</td>\n",
       "    </tr>\n",
       "    <tr>\n",
       "      <th>1</th>\n",
       "      <td>abdul</td>\n",
       "      <td>45</td>\n",
       "      <td>3.22</td>\n",
       "      <td>25</td>\n",
       "    </tr>\n",
       "    <tr>\n",
       "      <th>2</th>\n",
       "      <td>ahad</td>\n",
       "      <td>89</td>\n",
       "      <td>4.66</td>\n",
       "      <td>25</td>\n",
       "    </tr>\n",
       "  </tbody>\n",
       "</table>\n",
       "</div>"
      ],
      "text/plain": [
       "    Name  ID  CGPA  AGE\n",
       "0  sjaol  34  6.33   27\n",
       "1  abdul  45  3.22   25\n",
       "2   ahad  89  4.66   25"
      ]
     },
     "execution_count": 38,
     "metadata": {},
     "output_type": "execute_result"
    }
   ],
   "source": [
    "df[\"AGE\"] = age\n",
    "df"
   ]
  },
  {
   "cell_type": "code",
   "execution_count": 76,
   "id": "7ec74346-2a67-4a69-b5f8-48ac0ef453f1",
   "metadata": {},
   "outputs": [],
   "source": [
    "age,hemoglobin,tg,cholestro=[],[],[],[]\n",
    "\n",
    "for i in range(10):\n",
    "    x = random.randint(25,30) \n",
    "    age.append(x)\n",
    "    a =random.uniform(10,18)\n",
    "    hemoglobin.append(a)\n",
    "    a = random.uniform(5,40)\n",
    "    tg.append(a)\n",
    "    a = random.uniform(10,60)\n",
    "    cholestro.append(a)\n",
    "\n",
    "\n",
    "    "
   ]
  },
  {
   "cell_type": "code",
   "execution_count": 67,
   "id": "3c693ee9-65a5-44b7-bc43-d3d3908dcccb",
   "metadata": {},
   "outputs": [
    {
     "data": {
      "text/plain": [
       "[(11.926475927945287, 2),\n",
       " (16.954310043638575, 2),\n",
       " (11.634577073797473, 2),\n",
       " (17.83763079710879, 2),\n",
       " (17.060469439125665, 2),\n",
       " (14.444378736014716, 2),\n",
       " (17.468263406086585, 2),\n",
       " (12.108470350071347, 2),\n",
       " (16.955475574896028, 2),\n",
       " (12.985720524888292, 2)]"
      ]
     },
     "execution_count": 67,
     "metadata": {},
     "output_type": "execute_result"
    }
   ],
   "source": [
    "hemoglobin\n"
   ]
  },
  {
   "cell_type": "code",
   "execution_count": 68,
   "id": "76492864-7f7b-4415-a957-2e0389b19a33",
   "metadata": {},
   "outputs": [
    {
     "data": {
      "text/plain": [
       "{'AGE': [28, 27, 27, 30, 27, 26, 29, 26, 25, 28],\n",
       " 'Hemoglobin': [(11.926475927945287, 2),\n",
       "  (16.954310043638575, 2),\n",
       "  (11.634577073797473, 2),\n",
       "  (17.83763079710879, 2),\n",
       "  (17.060469439125665, 2),\n",
       "  (14.444378736014716, 2),\n",
       "  (17.468263406086585, 2),\n",
       "  (12.108470350071347, 2),\n",
       "  (16.955475574896028, 2),\n",
       "  (12.985720524888292, 2)],\n",
       " 'TG': [16.423497618681928,\n",
       "  8.62215932198527,\n",
       "  26.9258437828334,\n",
       "  19.774321025830943,\n",
       "  32.89316253682252,\n",
       "  18.605101881348265,\n",
       "  22.240300674171902,\n",
       "  12.359029977564694,\n",
       "  9.012955337833954,\n",
       "  7.4986240336143535],\n",
       " 'Cholestro': [58.785714721124265,\n",
       "  49.25148223199324,\n",
       "  46.86035143880868,\n",
       "  48.526808646769375,\n",
       "  36.114842406742724,\n",
       "  13.978866353566579,\n",
       "  23.21853827966684,\n",
       "  12.056345697160877,\n",
       "  23.75811936130121,\n",
       "  24.532986680569405]}"
      ]
     },
     "execution_count": 68,
     "metadata": {},
     "output_type": "execute_result"
    }
   ],
   "source": [
    "dict={'AGE':age,'Hemoglobin':hemoglobin,'TG':tg,'Cholestro':cholestro}\n",
    "dict"
   ]
  },
  {
   "cell_type": "code",
   "execution_count": 63,
   "id": "20c58f71-f551-442a-bd96-75967698f7f8",
   "metadata": {},
   "outputs": [],
   "source": [
    "import pandas as pd\n"
   ]
  },
  {
   "cell_type": "code",
   "execution_count": 69,
   "id": "b0362982-4e5c-4307-a588-d5d0df1d5e0e",
   "metadata": {},
   "outputs": [
    {
     "data": {
      "text/html": [
       "<div>\n",
       "<style scoped>\n",
       "    .dataframe tbody tr th:only-of-type {\n",
       "        vertical-align: middle;\n",
       "    }\n",
       "\n",
       "    .dataframe tbody tr th {\n",
       "        vertical-align: top;\n",
       "    }\n",
       "\n",
       "    .dataframe thead th {\n",
       "        text-align: right;\n",
       "    }\n",
       "</style>\n",
       "<table border=\"1\" class=\"dataframe\">\n",
       "  <thead>\n",
       "    <tr style=\"text-align: right;\">\n",
       "      <th></th>\n",
       "      <th>AGE</th>\n",
       "      <th>Hemoglobin</th>\n",
       "      <th>TG</th>\n",
       "      <th>Cholestro</th>\n",
       "    </tr>\n",
       "  </thead>\n",
       "  <tbody>\n",
       "    <tr>\n",
       "      <th>0</th>\n",
       "      <td>28</td>\n",
       "      <td>(11.926475927945287, 2)</td>\n",
       "      <td>16.423498</td>\n",
       "      <td>58.785715</td>\n",
       "    </tr>\n",
       "    <tr>\n",
       "      <th>1</th>\n",
       "      <td>27</td>\n",
       "      <td>(16.954310043638575, 2)</td>\n",
       "      <td>8.622159</td>\n",
       "      <td>49.251482</td>\n",
       "    </tr>\n",
       "    <tr>\n",
       "      <th>2</th>\n",
       "      <td>27</td>\n",
       "      <td>(11.634577073797473, 2)</td>\n",
       "      <td>26.925844</td>\n",
       "      <td>46.860351</td>\n",
       "    </tr>\n",
       "    <tr>\n",
       "      <th>3</th>\n",
       "      <td>30</td>\n",
       "      <td>(17.83763079710879, 2)</td>\n",
       "      <td>19.774321</td>\n",
       "      <td>48.526809</td>\n",
       "    </tr>\n",
       "    <tr>\n",
       "      <th>4</th>\n",
       "      <td>27</td>\n",
       "      <td>(17.060469439125665, 2)</td>\n",
       "      <td>32.893163</td>\n",
       "      <td>36.114842</td>\n",
       "    </tr>\n",
       "    <tr>\n",
       "      <th>5</th>\n",
       "      <td>26</td>\n",
       "      <td>(14.444378736014716, 2)</td>\n",
       "      <td>18.605102</td>\n",
       "      <td>13.978866</td>\n",
       "    </tr>\n",
       "    <tr>\n",
       "      <th>6</th>\n",
       "      <td>29</td>\n",
       "      <td>(17.468263406086585, 2)</td>\n",
       "      <td>22.240301</td>\n",
       "      <td>23.218538</td>\n",
       "    </tr>\n",
       "    <tr>\n",
       "      <th>7</th>\n",
       "      <td>26</td>\n",
       "      <td>(12.108470350071347, 2)</td>\n",
       "      <td>12.359030</td>\n",
       "      <td>12.056346</td>\n",
       "    </tr>\n",
       "    <tr>\n",
       "      <th>8</th>\n",
       "      <td>25</td>\n",
       "      <td>(16.955475574896028, 2)</td>\n",
       "      <td>9.012955</td>\n",
       "      <td>23.758119</td>\n",
       "    </tr>\n",
       "    <tr>\n",
       "      <th>9</th>\n",
       "      <td>28</td>\n",
       "      <td>(12.985720524888292, 2)</td>\n",
       "      <td>7.498624</td>\n",
       "      <td>24.532987</td>\n",
       "    </tr>\n",
       "  </tbody>\n",
       "</table>\n",
       "</div>"
      ],
      "text/plain": [
       "   AGE               Hemoglobin         TG  Cholestro\n",
       "0   28  (11.926475927945287, 2)  16.423498  58.785715\n",
       "1   27  (16.954310043638575, 2)   8.622159  49.251482\n",
       "2   27  (11.634577073797473, 2)  26.925844  46.860351\n",
       "3   30   (17.83763079710879, 2)  19.774321  48.526809\n",
       "4   27  (17.060469439125665, 2)  32.893163  36.114842\n",
       "5   26  (14.444378736014716, 2)  18.605102  13.978866\n",
       "6   29  (17.468263406086585, 2)  22.240301  23.218538\n",
       "7   26  (12.108470350071347, 2)  12.359030  12.056346\n",
       "8   25  (16.955475574896028, 2)   9.012955  23.758119\n",
       "9   28  (12.985720524888292, 2)   7.498624  24.532987"
      ]
     },
     "execution_count": 69,
     "metadata": {},
     "output_type": "execute_result"
    }
   ],
   "source": [
    "df=pd.DataFrame(data=dict)\n",
    "df\n"
   ]
  },
  {
   "cell_type": "code",
   "execution_count": 73,
   "id": "839ef0da-94d7-4525-a2de-70cbf823afca",
   "metadata": {},
   "outputs": [],
   "source": [
    "x = round(random.random(),2)"
   ]
  },
  {
   "cell_type": "code",
   "execution_count": 74,
   "id": "b7b8f17c-df0f-459b-ab5c-6299ca9f16af",
   "metadata": {},
   "outputs": [
    {
     "data": {
      "text/plain": [
       "0.51"
      ]
     },
     "execution_count": 74,
     "metadata": {},
     "output_type": "execute_result"
    }
   ],
   "source": [
    "x"
   ]
  },
  {
   "cell_type": "code",
   "execution_count": 79,
   "id": "fa3151d5-ef38-4b39-8643-17bbcc833c32",
   "metadata": {},
   "outputs": [
    {
     "data": {
      "text/html": [
       "<div>\n",
       "<style scoped>\n",
       "    .dataframe tbody tr th:only-of-type {\n",
       "        vertical-align: middle;\n",
       "    }\n",
       "\n",
       "    .dataframe tbody tr th {\n",
       "        vertical-align: top;\n",
       "    }\n",
       "\n",
       "    .dataframe thead th {\n",
       "        text-align: right;\n",
       "    }\n",
       "</style>\n",
       "<table border=\"1\" class=\"dataframe\">\n",
       "  <thead>\n",
       "    <tr style=\"text-align: right;\">\n",
       "      <th></th>\n",
       "      <th>AGE</th>\n",
       "      <th>Hemoglobin</th>\n",
       "      <th>TG</th>\n",
       "      <th>Cholestro</th>\n",
       "    </tr>\n",
       "  </thead>\n",
       "  <tbody>\n",
       "    <tr>\n",
       "      <th>0</th>\n",
       "      <td>28</td>\n",
       "      <td>(11.926475927945287, 2)</td>\n",
       "      <td>16.423498</td>\n",
       "      <td>58.785715</td>\n",
       "    </tr>\n",
       "    <tr>\n",
       "      <th>1</th>\n",
       "      <td>27</td>\n",
       "      <td>(16.954310043638575, 2)</td>\n",
       "      <td>8.622159</td>\n",
       "      <td>49.251482</td>\n",
       "    </tr>\n",
       "    <tr>\n",
       "      <th>2</th>\n",
       "      <td>27</td>\n",
       "      <td>(11.634577073797473, 2)</td>\n",
       "      <td>26.925844</td>\n",
       "      <td>46.860351</td>\n",
       "    </tr>\n",
       "    <tr>\n",
       "      <th>3</th>\n",
       "      <td>30</td>\n",
       "      <td>(17.83763079710879, 2)</td>\n",
       "      <td>19.774321</td>\n",
       "      <td>48.526809</td>\n",
       "    </tr>\n",
       "    <tr>\n",
       "      <th>4</th>\n",
       "      <td>27</td>\n",
       "      <td>(17.060469439125665, 2)</td>\n",
       "      <td>32.893163</td>\n",
       "      <td>36.114842</td>\n",
       "    </tr>\n",
       "    <tr>\n",
       "      <th>5</th>\n",
       "      <td>26</td>\n",
       "      <td>(14.444378736014716, 2)</td>\n",
       "      <td>18.605102</td>\n",
       "      <td>13.978866</td>\n",
       "    </tr>\n",
       "    <tr>\n",
       "      <th>6</th>\n",
       "      <td>29</td>\n",
       "      <td>(17.468263406086585, 2)</td>\n",
       "      <td>22.240301</td>\n",
       "      <td>23.218538</td>\n",
       "    </tr>\n",
       "    <tr>\n",
       "      <th>7</th>\n",
       "      <td>26</td>\n",
       "      <td>(12.108470350071347, 2)</td>\n",
       "      <td>12.359030</td>\n",
       "      <td>12.056346</td>\n",
       "    </tr>\n",
       "    <tr>\n",
       "      <th>8</th>\n",
       "      <td>25</td>\n",
       "      <td>(16.955475574896028, 2)</td>\n",
       "      <td>9.012955</td>\n",
       "      <td>23.758119</td>\n",
       "    </tr>\n",
       "    <tr>\n",
       "      <th>9</th>\n",
       "      <td>28</td>\n",
       "      <td>(12.985720524888292, 2)</td>\n",
       "      <td>7.498624</td>\n",
       "      <td>24.532987</td>\n",
       "    </tr>\n",
       "  </tbody>\n",
       "</table>\n",
       "</div>"
      ],
      "text/plain": [
       "   AGE               Hemoglobin         TG  Cholestro\n",
       "0   28  (11.926475927945287, 2)  16.423498  58.785715\n",
       "1   27  (16.954310043638575, 2)   8.622159  49.251482\n",
       "2   27  (11.634577073797473, 2)  26.925844  46.860351\n",
       "3   30   (17.83763079710879, 2)  19.774321  48.526809\n",
       "4   27  (17.060469439125665, 2)  32.893163  36.114842\n",
       "5   26  (14.444378736014716, 2)  18.605102  13.978866\n",
       "6   29  (17.468263406086585, 2)  22.240301  23.218538\n",
       "7   26  (12.108470350071347, 2)  12.359030  12.056346\n",
       "8   25  (16.955475574896028, 2)   9.012955  23.758119\n",
       "9   28  (12.985720524888292, 2)   7.498624  24.532987"
      ]
     },
     "execution_count": 79,
     "metadata": {},
     "output_type": "execute_result"
    }
   ],
   "source": [
    "df=pd.DataFrame(data=dict)\n",
    "df"
   ]
  },
  {
   "cell_type": "code",
   "execution_count": null,
   "id": "719c1489-d689-4c96-aa40-1b9a91a8192e",
   "metadata": {},
   "outputs": [],
   "source": []
  },
  {
   "cell_type": "code",
   "execution_count": null,
   "id": "74f9d232-aa69-4bea-b3e5-79d8d16a2027",
   "metadata": {},
   "outputs": [],
   "source": []
  }
 ],
 "metadata": {
  "kernelspec": {
   "display_name": "Python 3 (ipykernel)",
   "language": "python",
   "name": "python3"
  },
  "language_info": {
   "codemirror_mode": {
    "name": "ipython",
    "version": 3
   },
   "file_extension": ".py",
   "mimetype": "text/x-python",
   "name": "python",
   "nbconvert_exporter": "python",
   "pygments_lexer": "ipython3",
   "version": "3.12.7"
  }
 },
 "nbformat": 4,
 "nbformat_minor": 5
}
