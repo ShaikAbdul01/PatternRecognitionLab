{
 "cells": [
  {
   "cell_type": "code",
   "execution_count": 1,
   "id": "a3649998-7359-4280-9a46-a49dfad4f1cc",
   "metadata": {},
   "outputs": [
    {
     "data": {
      "text/plain": [
       "6"
      ]
     },
     "execution_count": 1,
     "metadata": {},
     "output_type": "execute_result"
    }
   ],
   "source": [
    "a=6\n",
    "a"
   ]
  },
  {
   "cell_type": "code",
   "execution_count": 3,
   "id": "967fec87-a9fa-4f1e-af72-71b40a3ff1c0",
   "metadata": {},
   "outputs": [
    {
     "data": {
      "text/plain": [
       "6"
      ]
     },
     "execution_count": 3,
     "metadata": {},
     "output_type": "execute_result"
    }
   ],
   "source": [
    "b=a\n",
    "b"
   ]
  },
  {
   "cell_type": "code",
   "execution_count": 5,
   "id": "8c45fc1f-6cc9-49b2-8cb7-01c991bcf99b",
   "metadata": {},
   "outputs": [
    {
     "data": {
      "text/plain": [
       "'6'"
      ]
     },
     "execution_count": 5,
     "metadata": {},
     "output_type": "execute_result"
    }
   ],
   "source": [
    "b='6'\n",
    "b"
   ]
  },
  {
   "cell_type": "code",
   "execution_count": 34,
   "id": "1f310894-837a-48fb-89c7-951cbf83a9b3",
   "metadata": {},
   "outputs": [],
   "source": [
    "a=[]\n"
   ]
  },
  {
   "cell_type": "code",
   "execution_count": 35,
   "id": "44bded22-7b34-4e29-b55a-79ac5e5038c4",
   "metadata": {},
   "outputs": [
    {
     "data": {
      "text/plain": [
       "[]"
      ]
     },
     "execution_count": 35,
     "metadata": {},
     "output_type": "execute_result"
    }
   ],
   "source": [
    "a"
   ]
  },
  {
   "cell_type": "code",
   "execution_count": 36,
   "id": "1ea4712a-71b3-4c21-838c-93d07f8158e2",
   "metadata": {},
   "outputs": [],
   "source": [
    "for i in range (0,10):\n",
    "    a.append(i)"
   ]
  },
  {
   "cell_type": "code",
   "execution_count": 37,
   "id": "bdd68f9f-2632-4fe6-9818-7e603a7776d8",
   "metadata": {},
   "outputs": [
    {
     "data": {
      "text/plain": [
       "[0, 1, 2, 3, 4, 5, 6, 7, 8, 9]"
      ]
     },
     "execution_count": 37,
     "metadata": {},
     "output_type": "execute_result"
    }
   ],
   "source": [
    "a"
   ]
  },
  {
   "cell_type": "code",
   "execution_count": 38,
   "id": "b63916d6-c088-40bf-8703-b51dbe3805d5",
   "metadata": {},
   "outputs": [
    {
     "name": "stdin",
     "output_type": "stream",
     "text": [
      "Ënter the string:  shaik\n"
     ]
    },
    {
     "name": "stdout",
     "output_type": "stream",
     "text": [
      "String:  ['shaik']\n"
     ]
    }
   ],
   "source": [
    "arr=[]\n",
    "for i in range(1):\n",
    "    element=input(\"Ënter the string: \")\n",
    "    arr.append(element)\n",
    "    print(\"String: \",arr)"
   ]
  },
  {
   "cell_type": "code",
   "execution_count": null,
   "id": "950fb2cc-2719-4c84-b004-98a458c6b3af",
   "metadata": {},
   "outputs": [],
   "source": [
    "ar=[]\n",
    "for i in range (1):\n",
    "    element=int(intput(\"Enter integer value: \"))\n",
    "    "
   ]
  }
 ],
 "metadata": {
  "kernelspec": {
   "display_name": "Python 3 (ipykernel)",
   "language": "python",
   "name": "python3"
  },
  "language_info": {
   "codemirror_mode": {
    "name": "ipython",
    "version": 3
   },
   "file_extension": ".py",
   "mimetype": "text/x-python",
   "name": "python",
   "nbconvert_exporter": "python",
   "pygments_lexer": "ipython3",
   "version": "3.12.7"
  }
 },
 "nbformat": 4,
 "nbformat_minor": 5
}
