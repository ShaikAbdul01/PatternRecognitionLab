{
 "cells": [
  {
   "cell_type": "code",
   "execution_count": null,
   "id": "69b7fa9a-3568-4db7-ab2a-1450bdf06476",
   "metadata": {},
   "outputs": [],
   "source": []
  }
 ],
 "metadata": {
  "kernelspec": {
   "display_name": "",
   "name": ""
  },
  "language_info": {
   "name": ""
  }
 },
 "nbformat": 4,
 "nbformat_minor": 5
}
